{
 "cells": [
  {
   "cell_type": "code",
   "execution_count": 10,
   "metadata": {
    "collapsed": true
   },
   "outputs": [],
   "source": [
    "import numpy\n",
    "import tsne\n",
    "import matplotlib.pyplot as plot"
   ]
  },
  {
   "cell_type": "code",
   "execution_count": 5,
   "metadata": {
    "collapsed": false
   },
   "outputs": [
    {
     "data": {
      "text/plain": [
       "(2001, 1, 1000)"
      ]
     },
     "execution_count": 5,
     "metadata": {},
     "output_type": "execute_result"
    }
   ],
   "source": [
    "hiddens = numpy.load('./hiddens.npy')\n",
    "hiddens.shape"
   ]
  },
  {
   "cell_type": "code",
   "execution_count": 7,
   "metadata": {
    "collapsed": false
   },
   "outputs": [
    {
     "data": {
      "text/plain": [
       "(2001, 1000)"
      ]
     },
     "execution_count": 7,
     "metadata": {},
     "output_type": "execute_result"
    }
   ],
   "source": [
    "hiddens = hiddens.squeeze()\n",
    "hiddens.shape"
   ]
  },
  {
   "cell_type": "code",
   "execution_count": 9,
   "metadata": {
    "collapsed": false
   },
   "outputs": [
    {
     "name": "stdout",
     "output_type": "stream",
     "text": [
      "Preprocessing the data using PCA...\n",
      "Computing pairwise distances...\n",
      "Computing P-values for point  0  of  2001 ...\n",
      "Computing P-values for point  500  of  2001 ...\n",
      "Computing P-values for point  1000  of  2001 ...\n",
      "Computing P-values for point  1500  of  2001 ...\n",
      "Computing P-values for point  2000  of  2001 ...\n",
      "Mean value of sigma:  6.07874879033\n",
      "Iteration  10 : error is  21.1605253457\n",
      "Iteration  20 : error is  18.5396178496\n",
      "Iteration  30 : error is  16.2488005662\n",
      "Iteration  40 : error is  15.4775175198\n",
      "Iteration  50 : error is  15.381396708\n",
      "Iteration  60 : error is  15.4195248004\n",
      "Iteration  70 : error is  15.4333602783\n",
      "Iteration  80 : error is  15.4119197356\n",
      "Iteration  90 : error is  15.379631024\n",
      "Iteration  100 : error is  15.3801070864\n",
      "Iteration  110 : error is  2.13126348236\n",
      "Iteration  120 : error is  1.78949038801\n",
      "Iteration  130 : error is  1.58774040153\n",
      "Iteration  140 : error is  1.46124712718\n",
      "Iteration  150 : error is  1.3756445069\n",
      "Iteration  160 : error is  1.31402391065\n",
      "Iteration  170 : error is  1.26759089027\n",
      "Iteration  180 : error is  1.23158578304\n",
      "Iteration  190 : error is  1.20288205745\n",
      "Iteration  200 : error is  1.17945538353\n",
      "Iteration  210 : error is  1.1601142986\n",
      "Iteration  220 : error is  1.14392929089\n",
      "Iteration  230 : error is  1.1303302531\n",
      "Iteration  240 : error is  1.11868705238\n",
      "Iteration  250 : error is  1.10863706142\n",
      "Iteration  260 : error is  1.09987207421\n",
      "Iteration  270 : error is  1.09221332572\n",
      "Iteration  280 : error is  1.08547374452\n",
      "Iteration  290 : error is  1.07951188276\n",
      "Iteration  300 : error is  1.07420902601\n",
      "Iteration  310 : error is  1.06947127322\n",
      "Iteration  320 : error is  1.0652116971\n",
      "Iteration  330 : error is  1.0613608712\n",
      "Iteration  340 : error is  1.05788675271\n",
      "Iteration  350 : error is  1.05473156616\n",
      "Iteration  360 : error is  1.05185527669\n",
      "Iteration  370 : error is  1.04924126274\n",
      "Iteration  380 : error is  1.04684859772\n",
      "Iteration  390 : error is  1.04465140093\n",
      "Iteration  400 : error is  1.04264128183\n",
      "Iteration  410 : error is  1.04078812942\n",
      "Iteration  420 : error is  1.0390705634\n",
      "Iteration  430 : error is  1.03745929911\n",
      "Iteration  440 : error is  1.03596482282\n",
      "Iteration  450 : error is  1.03451953665\n",
      "Iteration  460 : error is  1.03321672281\n",
      "Iteration  470 : error is  1.03206576577\n",
      "Iteration  480 : error is  1.03100687117\n",
      "Iteration  490 : error is  1.03001140213\n",
      "Iteration  500 : error is  1.02906305178\n",
      "Iteration  510 : error is  1.02818581396\n",
      "Iteration  520 : error is  1.02736204869\n",
      "Iteration  530 : error is  1.02658839965\n",
      "Iteration  540 : error is  1.02585810209\n",
      "Iteration  550 : error is  1.02516605581\n",
      "Iteration  560 : error is  1.02451526482\n",
      "Iteration  570 : error is  1.02389960971\n",
      "Iteration  580 : error is  1.02331479587\n",
      "Iteration  590 : error is  1.02276042238\n",
      "Iteration  600 : error is  1.02223050773\n",
      "Iteration  610 : error is  1.02170931599\n",
      "Iteration  620 : error is  1.02123528494\n",
      "Iteration  630 : error is  1.02078854795\n",
      "Iteration  640 : error is  1.02035686289\n",
      "Iteration  650 : error is  1.01994722858\n",
      "Iteration  660 : error is  1.0195616415\n",
      "Iteration  670 : error is  1.01919225313\n",
      "Iteration  680 : error is  1.01883951715\n",
      "Iteration  690 : error is  1.01850195166\n",
      "Iteration  700 : error is  1.0181788487\n",
      "Iteration  710 : error is  1.01786812797\n",
      "Iteration  720 : error is  1.01757012659\n",
      "Iteration  730 : error is  1.01728011729\n",
      "Iteration  740 : error is  1.01699418704\n",
      "Iteration  750 : error is  1.01672726388\n",
      "Iteration  760 : error is  1.01647249421\n",
      "Iteration  770 : error is  1.01622811697\n",
      "Iteration  780 : error is  1.01599314522\n",
      "Iteration  790 : error is  1.01576714423\n",
      "Iteration  800 : error is  1.0155493757\n",
      "Iteration  810 : error is  1.01533920786\n",
      "Iteration  820 : error is  1.01513517398\n",
      "Iteration  830 : error is  1.01493776625\n",
      "Iteration  840 : error is  1.01474683867\n",
      "Iteration  850 : error is  1.01456169708\n",
      "Iteration  860 : error is  1.01438217285\n",
      "Iteration  870 : error is  1.01420633568\n",
      "Iteration  880 : error is  1.01403224321\n",
      "Iteration  890 : error is  1.01385693589\n",
      "Iteration  900 : error is  1.01367815996\n",
      "Iteration  910 : error is  1.01349655372\n",
      "Iteration  920 : error is  1.01332335415\n",
      "Iteration  930 : error is  1.01316614508\n",
      "Iteration  940 : error is  1.01302234046\n",
      "Iteration  950 : error is  1.01288819084\n",
      "Iteration  960 : error is  1.01276085331\n",
      "Iteration  970 : error is  1.01263894675\n",
      "Iteration  980 : error is  1.01252087575\n",
      "Iteration  990 : error is  1.01240634157\n",
      "Iteration  1000 : error is  1.01229473375\n"
     ]
    }
   ],
   "source": [
    "h_tsne = tsne.tsne(hiddens.astype('float64'))"
   ]
  },
  {
   "cell_type": "code",
   "execution_count": 25,
   "metadata": {
    "collapsed": true
   },
   "outputs": [],
   "source": [
    "n_points = h_tsne.shape[0]\n",
    "colors = numpy.arange(n_points).astype('float32')/n_points\n",
    "plot.hold('on')\n",
    "for ni in xrange(n_points):\n",
    "    plot.plot(h_tsne[ni,0], h_tsne[ni,1], 'o', color=(colors[ni],0,0))\n",
    "plot.hold('off')\n",
    "plot.grid('on')\n",
    "plot.show()"
   ]
  },
  {
   "cell_type": "code",
   "execution_count": 14,
   "metadata": {
    "collapsed": false
   },
   "outputs": [
    {
     "name": "stdout",
     "output_type": "stream",
     "text": [
      "Preprocessing the data using PCA...\n"
     ]
    }
   ],
   "source": [
    "h_pca = tsne.pca(hiddens.astype('float64'), no_dims=2)"
   ]
  },
  {
   "cell_type": "code",
   "execution_count": 28,
   "metadata": {
    "collapsed": false
   },
   "outputs": [],
   "source": [
    "n_points = h_pca.shape[0]\n",
    "colors = numpy.arange(n_points).astype('float32')/n_points\n",
    "plot.hold('on')\n",
    "for ni in xrange(n_points):\n",
    "    plot.plot(h_pca[ni,0], h_pca[ni,1], 'o', color=(colors[ni],1,0))\n",
    "plot.hold('off')\n",
    "plot.grid('on')\n",
    "plot.show()"
   ]
  },
  {
   "cell_type": "code",
   "execution_count": null,
   "metadata": {
    "collapsed": true
   },
   "outputs": [],
   "source": []
  }
 ],
 "metadata": {
  "kernelspec": {
   "display_name": "Python 2",
   "language": "python",
   "name": "python2"
  },
  "language_info": {
   "codemirror_mode": {
    "name": "ipython",
    "version": 2
   },
   "file_extension": ".py",
   "mimetype": "text/x-python",
   "name": "python",
   "nbconvert_exporter": "python",
   "pygments_lexer": "ipython2",
   "version": "2.7.9"
  }
 },
 "nbformat": 4,
 "nbformat_minor": 0
}
